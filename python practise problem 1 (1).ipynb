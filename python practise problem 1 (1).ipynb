{
 "cells": [
  {
   "cell_type": "markdown",
   "id": "9818ffc8",
   "metadata": {},
   "source": [
    "# Python Practice Problems"
   ]
  },
  {
   "cell_type": "markdown",
   "id": "92c96f2f",
   "metadata": {},
   "source": [
    "1. Find the Largest of Two Numbers\n",
    "Task: Given two numbers, find the larger one.  \n",
    "Demo Input:  5 and 6 \n",
    "Output: 6\n"
   ]
  },
  {
   "cell_type": "code",
   "execution_count": 1,
   "id": "15c848cf",
   "metadata": {},
   "outputs": [
    {
     "name": "stdout",
     "output_type": "stream",
     "text": [
      "The largest number is: 6\n"
     ]
    }
   ],
   "source": [
    "# Input two numbers\n",
    "num1 = 5\n",
    "num2 = 6\n",
    "\n",
    "# Compare the numbers and find the larger one\n",
    "if num1 > num2:\n",
    "    largest = num1\n",
    "else:\n",
    "    largest = num2\n",
    "\n",
    "# Output the result\n",
    "print('The largest number is:', largest)\n"
   ]
  },
  {
   "cell_type": "markdown",
   "id": "c8c1c683",
   "metadata": {},
   "source": [
    "### 2. Print Numbers from 1 to N\n",
    "**Task**: Given a number `n`, print all numbers from 1 to `n`. <br> \n",
    "**Demo Input**: `5`  <br>\n",
    "**Demo Output**:  1 2 3 4 5\n"
   ]
  },
  {
   "cell_type": "code",
   "execution_count": 2,
   "id": "4f9f4529",
   "metadata": {},
   "outputs": [
    {
     "name": "stdout",
     "output_type": "stream",
     "text": [
      "1 2 3 4 5 "
     ]
    }
   ],
   "source": [
    "# Input the number n\n",
    "n = 5\n",
    "\n",
    "# Print numbers from 1 to n\n",
    "for i in range(1, n + 1):\n",
    "    print(i, end=' ')\n"
   ]
  },
  {
   "cell_type": "markdown",
   "id": "899df468",
   "metadata": {},
   "source": [
    "### 3. Check if a Number is Positive or Negative\n",
    "**Task**: Determine if the input number is positive, negative, or zero.  \n",
    "**Demo Input**: `-3`  \n",
    "**Demo Output**: `The number is Negative`"
   ]
  },
  {
   "cell_type": "code",
   "execution_count": 3,
   "id": "56ae285e",
   "metadata": {},
   "outputs": [
    {
     "name": "stdout",
     "output_type": "stream",
     "text": [
      "The number is Negative\n"
     ]
    }
   ],
   "source": [
    "# Input the number\n",
    "num = -3\n",
    "\n",
    "# Check if the number is positive, negative, or zero\n",
    "if num > 0:\n",
    "    print('The number is Positive')\n",
    "elif num < 0:\n",
    "    print('The number is Negative')\n",
    "else:\n",
    "    print('The number is Zero')\n"
   ]
  },
  {
   "cell_type": "markdown",
   "id": "9d865d12",
   "metadata": {},
   "source": [
    "### 4. Calculate the Sum of Digits\n",
    "**Task**: Given a number, find the sum of its digits.  \n",
    "**Demo Input**: `123`  \n",
    "**Demo Output**: `6`  \n",
    "(Explanation: `1+2+3=6`)"
   ]
  },
  {
   "cell_type": "code",
   "execution_count": 6,
   "id": "c28b2c6c",
   "metadata": {},
   "outputs": [
    {
     "name": "stdout",
     "output_type": "stream",
     "text": [
      "The sum of the digits is: 6\n"
     ]
    }
   ],
   "source": [
    "# Input the number\n",
    "num = 123\n",
    "\n",
    "# Initialize the sum\n",
    "sum_of_digits = 0\n",
    "\n",
    "# Calculate the sum of digits\n",
    "while num > 0:\n",
    "    digit = num % 10  \n",
    "    sum_of_digits += digit  \n",
    "    num = num // 10  \n",
    "\n",
    "# Output the result\n",
    "print('The sum of the digits is:', sum_of_digits)\n"
   ]
  },
  {
   "cell_type": "markdown",
   "id": "a970046f",
   "metadata": {},
   "source": [
    "### 5. Find Factorial of a Number\n",
    "**Task**: Calculate the factorial of a given number.  \n",
    "**Demo Input**: `4`  \n",
    "**Demo Output**: `24`  \n",
    "(Explanation: `4! = 4*3*2*1 = 24`)"
   ]
  },
  {
   "cell_type": "code",
   "execution_count": 7,
   "id": "fd5966d2",
   "metadata": {},
   "outputs": [
    {
     "name": "stdout",
     "output_type": "stream",
     "text": [
      "The factorial of 4 is: 24\n"
     ]
    }
   ],
   "source": [
    "# Input the number\n",
    "num = 4\n",
    "\n",
    "# Initialize the factorial\n",
    "factorial = 1\n",
    "\n",
    "# Calculate the factorial\n",
    "for i in range(1, num + 1):\n",
    "    factorial *= i\n",
    "\n",
    "# Output the result\n",
    "print('The factorial of', num, 'is:', factorial)\n"
   ]
  },
  {
   "cell_type": "markdown",
   "id": "c8798099",
   "metadata": {},
   "source": [
    "### 6. Count Occurrences of a Digit\n",
    "**Task**: Count how many times a specific digit appears max in a number.  \n",
    "**Demo Input**:  1233321 <br>\n",
    "**Demo Output**: `3`  <br>\n",
    "(Explanation: `3` appears 3 times in `1233321`)"
   ]
  },
  {
   "cell_type": "code",
   "execution_count": 8,
   "id": "5772f0e6",
   "metadata": {},
   "outputs": [
    {
     "name": "stdout",
     "output_type": "stream",
     "text": [
      "The digit 3 appears 3 times in 1233321.\n"
     ]
    }
   ],
   "source": [
    "# Input the number and the digit to count\n",
    "num = 1233321\n",
    "digit_to_count = 3\n",
    "\n",
    "# Convert the number to a string to count the occurrences\n",
    "count = str(num).count(str(digit_to_count))\n",
    "\n",
    "# Output the result\n",
    "print(f'The digit {digit_to_count} appears {count} times in {num}.')\n"
   ]
  },
  {
   "cell_type": "markdown",
   "id": "b7f985bc",
   "metadata": {},
   "source": [
    "### 7. Find the GCD of Two Numbers\n",
    "**Task**: Find the greatest common divisor (GCD) of two numbers.  \n",
    "**Demo Input**: 8 and 12 <br>\n",
    "**Demo Output**: `4`"
   ]
  },
  {
   "cell_type": "code",
   "execution_count": 9,
   "id": "a467887d",
   "metadata": {},
   "outputs": [
    {
     "name": "stdout",
     "output_type": "stream",
     "text": [
      "The GCD of 8 and 12 is: 4\n"
     ]
    }
   ],
   "source": [
    "# Input two numbers\n",
    "num1 = 8\n",
    "num2 = 12\n",
    "\n",
    "# Function to calculate GCD using the Euclidean algorithm\n",
    "def find_gcd(a, b):\n",
    "    while b != 0:\n",
    "        a, b = b, a % b\n",
    "    return a\n",
    "\n",
    "# Calculate GCD\n",
    "gcd = find_gcd(num1, num2)\n",
    "\n",
    "# Output the result\n",
    "print(f'The GCD of {num1} and {num2} is: {gcd}')\n"
   ]
  },
  {
   "cell_type": "markdown",
   "id": "14c6a2fd",
   "metadata": {},
   "source": [
    "### 8. Reverse a String\n",
    "**Task**: Reverse the given string.  \n",
    "**Demo Input**: `\"aiquest\"`  \n",
    "**Demo Output**: `\"tseuqia\"`"
   ]
  },
  {
   "cell_type": "code",
   "execution_count": 12,
   "id": "bd22e158",
   "metadata": {},
   "outputs": [
    {
     "name": "stdout",
     "output_type": "stream",
     "text": [
      "The reversed string is: tseuqia\n"
     ]
    }
   ],
   "source": [
    "# Input the string\n",
    "input_string = \"aiquest\"\n",
    "\n",
    "# Reverse the string using slicing\n",
    "reversed_string = input_string[::-1]\n",
    "\n",
    "# Output the result\n",
    "print('The reversed string is:', reversed_string)\n"
   ]
  },
  {
   "cell_type": "markdown",
   "id": "88317dfd",
   "metadata": {},
   "source": [
    "### 9. Check Armstrong Number\n",
    "**Task**: Check if a number is an Armstrong number (the sum of its digits raised to the power of the number of digits equals the number).  \n",
    "**Demo Input**: `153`  \n",
    "**Demo Output**: `153 is an Armstrong Number`  \n",
    "(Explanation: \\(1^3 + 5^3 + 3^3 = 153\\))"
   ]
  },
  {
   "cell_type": "code",
   "execution_count": 10,
   "id": "2602ff94",
   "metadata": {},
   "outputs": [
    {
     "name": "stdout",
     "output_type": "stream",
     "text": [
      "153 is an Armstrong Number\n"
     ]
    }
   ],
   "source": [
    "# Input the number\n",
    "num = 153\n",
    "\n",
    "# Calculate the number of digits\n",
    "num_of_digits = len(str(num))\n",
    "\n",
    "# Initialize the sum\n",
    "sum_of_powers = 0\n",
    "\n",
    "# Make a copy of the number for processing\n",
    "temp = num\n",
    "\n",
    "# Calculate the sum of digits raised to the power of the number of digits\n",
    "while temp > 0:\n",
    "    digit = temp % 10  \n",
    "    sum_of_powers += digit ** num_of_digits  \n",
    "    temp //= 10  \n",
    "\n",
    "# Check if the number is an Armstrong number\n",
    "if sum_of_powers == num:\n",
    "    print(f'{num} is an Armstrong Number')\n",
    "    \n",
    "else:\n",
    "    print(f'{num} is not an Armstrong Number')\n"
   ]
  },
  {
   "cell_type": "markdown",
   "id": "0905a3cc",
   "metadata": {},
   "source": [
    "### 10. Generate a Pattern\n",
    "**Task**: Print a pyramid pattern with `n` rows.  \n",
    "**Demo input:** 4 <br>\n",
    "**Output:** You will see the pyramid pattern with 4 rows"
   ]
  },
  {
   "cell_type": "code",
   "execution_count": 11,
   "id": "83d8b483",
   "metadata": {},
   "outputs": [
    {
     "name": "stdout",
     "output_type": "stream",
     "text": [
      "   *\n",
      "  ***\n",
      " *****\n",
      "*******\n"
     ]
    }
   ],
   "source": [
    "# Input the number of rows\n",
    "n = 4\n",
    "\n",
    "# Generate the pyramid pattern\n",
    "for i in range(1, n + 1):\n",
    "    # Print spaces for alignment\n",
    "    print(\" \" * (n - i), end=\"\")\n",
    "    # Print stars\n",
    "    print('*' * (2 * i - 1))\n"
   ]
  },
  {
   "cell_type": "markdown",
   "id": "ec723917",
   "metadata": {},
   "source": [
    "# Good Luck!"
   ]
  }
 ],
 "metadata": {
  "kernelspec": {
   "display_name": "Python 3 (ipykernel)",
   "language": "python",
   "name": "python3"
  },
  "language_info": {
   "codemirror_mode": {
    "name": "ipython",
    "version": 3
   },
   "file_extension": ".py",
   "mimetype": "text/x-python",
   "name": "python",
   "nbconvert_exporter": "python",
   "pygments_lexer": "ipython3",
   "version": "3.11.7"
  }
 },
 "nbformat": 4,
 "nbformat_minor": 5
}
