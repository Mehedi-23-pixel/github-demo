{
 "cells": [
  {
   "cell_type": "code",
   "execution_count": 1,
   "id": "a8ac7068-ab4a-4e54-9a5d-d103edc33a16",
   "metadata": {},
   "outputs": [
    {
     "name": "stdout",
     "output_type": "stream",
     "text": [
      "Slope (M): 2.6209677419354827\n",
      "Intercept (C): 35.16129032258064\n",
      "Predicted Price for Weight 6: 50.88709677419354\n",
      "Mean Squared Error (MSE): 167.30990783410144\n",
      "Mean Absolute Error (MAE): 9.873271889400923\n"
     ]
    },
    {
     "name": "stderr",
     "output_type": "stream",
     "text": [
      "C:\\Users\\user\\AppData\\Local\\Temp\\ipykernel_11248\\3564782363.py:29: FutureWarning: Series.__getitem__ treating keys as positions is deprecated. In a future version, integer keys will always be treated as labels (consistent with DataFrame behavior). To access a value by position, use `ser.iloc[pos]`\n",
      "  print(f\"Slope (M): {model.params[1]}\")\n",
      "C:\\Users\\user\\AppData\\Local\\Temp\\ipykernel_11248\\3564782363.py:30: FutureWarning: Series.__getitem__ treating keys as positions is deprecated. In a future version, integer keys will always be treated as labels (consistent with DataFrame behavior). To access a value by position, use `ser.iloc[pos]`\n",
      "  print(f\"Intercept (C): {model.params[0]}\")\n"
     ]
    }
   ],
   "source": [
    "import pandas as pd\n",
    "import numpy as np\n",
    "import statsmodels.api as sm\n",
    "\n",
    "# Data\n",
    "data = {\n",
    "    'Weight': [2, 4, 5, 3, 6, 5, 7],\n",
    "    'Price': [35, 60, 20, 50, 50, 55, 60]\n",
    "}\n",
    "df = pd.DataFrame(data)\n",
    "\n",
    "# OLS Regression\n",
    "X = df['Weight']\n",
    "y = df['Price']\n",
    "X = sm.add_constant(X)\n",
    "model = sm.OLS(y, X).fit()\n",
    "\n",
    "# Predictions\n",
    "df['Predicted_Price'] = model.predict(X)\n",
    "df['Residuals'] = df['Price'] - df['Predicted_Price']\n",
    "\n",
    "# MSE and MAE\n",
    "mse = np.mean(df['Residuals']**2)\n",
    "mae = np.mean(np.abs(df['Residuals']))\n",
    "\n",
    "# Save to Excel\n",
    "df.to_excel('vegetable_prices.xlsx', index=False)\n",
    "\n",
    "print(f\"Slope (M): {model.params[1]}\")\n",
    "print(f\"Intercept (C): {model.params[0]}\")\n",
    "print(f\"Predicted Price for Weight 6: {model.predict([1, 6])[0]}\")\n",
    "print(f\"Mean Squared Error (MSE): {mse}\")\n",
    "print(f\"Mean Absolute Error (MAE): {mae}\")\n"
   ]
  }
 ],
 "metadata": {
  "kernelspec": {
   "display_name": "Python 3 (ipykernel)",
   "language": "python",
   "name": "python3"
  },
  "language_info": {
   "codemirror_mode": {
    "name": "ipython",
    "version": 3
   },
   "file_extension": ".py",
   "mimetype": "text/x-python",
   "name": "python",
   "nbconvert_exporter": "python",
   "pygments_lexer": "ipython3",
   "version": "3.11.7"
  }
 },
 "nbformat": 4,
 "nbformat_minor": 5
}
